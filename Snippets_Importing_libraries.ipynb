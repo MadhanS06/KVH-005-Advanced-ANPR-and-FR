{
  "cells": [
    {
      "cell_type": "markdown",
      "metadata": {
        "id": "view-in-github",
        "colab_type": "text"
      },
      "source": [
        "<a href=\"https://colab.research.google.com/github/MadhanS06/KVH-005-Advanced-ANPR-and-FR/blob/main/Snippets_Importing_libraries.ipynb\" target=\"_parent\"><img src=\"https://colab.research.google.com/assets/colab-badge.svg\" alt=\"Open In Colab\"/></a>"
      ]
    },
    {
      "cell_type": "code",
      "source": [
        "!pip install translate\n"
      ],
      "metadata": {
        "id": "RkNmcilr1uCU",
        "outputId": "76d461fd-ead8-4364-e2b4-1d5f73c0489c",
        "colab": {
          "base_uri": "https://localhost:8080/"
        }
      },
      "execution_count": 1,
      "outputs": [
        {
          "output_type": "stream",
          "name": "stdout",
          "text": [
            "Looking in indexes: https://pypi.org/simple, https://us-python.pkg.dev/colab-wheels/public/simple/\n",
            "Collecting translate\n",
            "  Downloading translate-3.6.1-py2.py3-none-any.whl (12 kB)\n",
            "Requirement already satisfied: click in /usr/local/lib/python3.9/dist-packages (from translate) (8.1.3)\n",
            "Requirement already satisfied: lxml in /usr/local/lib/python3.9/dist-packages (from translate) (4.9.2)\n",
            "Collecting libretranslatepy==2.1.1\n",
            "  Downloading libretranslatepy-2.1.1-py3-none-any.whl (3.2 kB)\n",
            "Requirement already satisfied: requests in /usr/local/lib/python3.9/dist-packages (from translate) (2.27.1)\n",
            "Requirement already satisfied: idna<4,>=2.5 in /usr/local/lib/python3.9/dist-packages (from requests->translate) (3.4)\n",
            "Requirement already satisfied: charset-normalizer~=2.0.0 in /usr/local/lib/python3.9/dist-packages (from requests->translate) (2.0.12)\n",
            "Requirement already satisfied: urllib3<1.27,>=1.21.1 in /usr/local/lib/python3.9/dist-packages (from requests->translate) (1.26.15)\n",
            "Requirement already satisfied: certifi>=2017.4.17 in /usr/local/lib/python3.9/dist-packages (from requests->translate) (2022.12.7)\n",
            "Installing collected packages: libretranslatepy, translate\n",
            "Successfully installed libretranslatepy-2.1.1 translate-3.6.1\n"
          ]
        }
      ]
    },
    {
      "cell_type": "code",
      "source": [
        "!pip install translator"
      ],
      "metadata": {
        "id": "ar8ufzo-10iz",
        "outputId": "46768819-ac79-4d56-c10c-ffc8da2ae272",
        "colab": {
          "base_uri": "https://localhost:8080/"
        }
      },
      "execution_count": 2,
      "outputs": [
        {
          "output_type": "stream",
          "name": "stdout",
          "text": [
            "Looking in indexes: https://pypi.org/simple, https://us-python.pkg.dev/colab-wheels/public/simple/\n",
            "Collecting translator\n",
            "  Downloading translator-0.0.9-py3-none-any.whl (5.3 kB)\n",
            "Requirement already satisfied: beautifulsoup4>=4.0 in /usr/local/lib/python3.9/dist-packages (from translator) (4.11.2)\n",
            "Requirement already satisfied: soupsieve>1.2 in /usr/local/lib/python3.9/dist-packages (from beautifulsoup4>=4.0->translator) (2.4)\n",
            "Installing collected packages: translator\n",
            "Successfully installed translator-0.0.9\n"
          ]
        }
      ]
    },
    {
      "cell_type": "code",
      "source": [
        "\n",
        "\n",
        "from tkinter import *\n",
        "from translate import Translator\n",
        "\n",
        "Screen = Tk()\n",
        "Screen.title(\"Language Translator with GUI by- TechVidvan\")\n",
        "\n",
        "InputLanguageChoice = StringVar()\n",
        "TranslateLanguageChoice = StringVar()\n",
        "LanguageChoices = {'Hindi','English','Tamil','German','Spanish'}\n",
        "InputLanguageChoice.set('English')\n",
        "TranslateLanguageChoice.set('Hindi')\n",
        "def Translate():\n",
        "    translator = Translator(from_lang= InputLanguageChoice.get(),to_lang=TranslateLanguageChoice.get())\n",
        "    Translation = translator.translate(TextVar.get())\n",
        "    OutputVar.set(Translation)\n",
        "    # choice for input language\n",
        "    InputLanguageChoiceMenu = OptionMenu(Screen, InputLanguageChoice, *LanguageChoices)\n",
        "    Label(Screen, text=\"Choose a Language\").grid(row=0, column=1)\n",
        "    InputLanguageChoiceMenu.grid(row=1, column=1)\n",
        "\n",
        "    # choice in which the language is to be translated\n",
        "    NewLanguageChoiceMenu = OptionMenu(Screen, TranslateLanguageChoice, *LanguageChoices)\n",
        "    Label(Screen, text=\"Translated Language\").grid(row=0, column=2)\n",
        "    NewLanguageChoiceMenu.grid(row=1, column=2)\n",
        "    Label(Screen, text=\"Enter Text\").grid(row=2, column=0)\n",
        "    TextVar = StringVar()\n",
        "    TextBox = Entry(Screen, textvariable=TextVar).grid(row=2, column=1)\n",
        "\n",
        "    Label(Screen, text=\"Output Text\").grid(row=2, column=2)\n",
        "    OutputVar = StringVar()\n",
        "    TextBox = Entry(Screen, textvariable=OutputVar).grid(row=2, column=3)\n",
        "\n",
        "    # Button for calling function\n",
        "    B = Button(Screen, text=\"Translate\", command=Translate, relief=GROOVE).grid(row=3, column=1, columnspan=3)\n",
        "\n",
        "    mainloop()\n"
      ],
      "metadata": {
        "id": "i6uVnVxI1vDV",
        "outputId": "b8425828-228c-43db-895a-3e44a7ffd1c8",
        "colab": {
          "base_uri": "https://localhost:8080/",
          "height": 356
        }
      },
      "execution_count": 3,
      "outputs": [
        {
          "output_type": "error",
          "ename": "TclError",
          "evalue": "ignored",
          "traceback": [
            "\u001b[0;31m---------------------------------------------------------------------------\u001b[0m",
            "\u001b[0;31mTclError\u001b[0m                                  Traceback (most recent call last)",
            "\u001b[0;32m<ipython-input-3-6472d4df92fc>\u001b[0m in \u001b[0;36m<module>\u001b[0;34m\u001b[0m\n\u001b[1;32m      2\u001b[0m \u001b[0;32mfrom\u001b[0m \u001b[0mtranslate\u001b[0m \u001b[0;32mimport\u001b[0m \u001b[0mTranslator\u001b[0m\u001b[0;34m\u001b[0m\u001b[0;34m\u001b[0m\u001b[0m\n\u001b[1;32m      3\u001b[0m \u001b[0;34m\u001b[0m\u001b[0m\n\u001b[0;32m----> 4\u001b[0;31m \u001b[0mScreen\u001b[0m \u001b[0;34m=\u001b[0m \u001b[0mTk\u001b[0m\u001b[0;34m(\u001b[0m\u001b[0;34m)\u001b[0m\u001b[0;34m\u001b[0m\u001b[0;34m\u001b[0m\u001b[0m\n\u001b[0m\u001b[1;32m      5\u001b[0m \u001b[0mScreen\u001b[0m\u001b[0;34m.\u001b[0m\u001b[0mtitle\u001b[0m\u001b[0;34m(\u001b[0m\u001b[0;34m\"Language Translator with GUI by- TechVidvan\"\u001b[0m\u001b[0;34m)\u001b[0m\u001b[0;34m\u001b[0m\u001b[0;34m\u001b[0m\u001b[0m\n\u001b[1;32m      6\u001b[0m \u001b[0;34m\u001b[0m\u001b[0m\n",
            "\u001b[0;32m/usr/lib/python3.9/tkinter/__init__.py\u001b[0m in \u001b[0;36m__init__\u001b[0;34m(self, screenName, baseName, className, useTk, sync, use)\u001b[0m\n\u001b[1;32m   2268\u001b[0m                 \u001b[0mbaseName\u001b[0m \u001b[0;34m=\u001b[0m \u001b[0mbaseName\u001b[0m \u001b[0;34m+\u001b[0m \u001b[0mext\u001b[0m\u001b[0;34m\u001b[0m\u001b[0;34m\u001b[0m\u001b[0m\n\u001b[1;32m   2269\u001b[0m         \u001b[0minteractive\u001b[0m \u001b[0;34m=\u001b[0m \u001b[0;32mFalse\u001b[0m\u001b[0;34m\u001b[0m\u001b[0;34m\u001b[0m\u001b[0m\n\u001b[0;32m-> 2270\u001b[0;31m         \u001b[0mself\u001b[0m\u001b[0;34m.\u001b[0m\u001b[0mtk\u001b[0m \u001b[0;34m=\u001b[0m \u001b[0m_tkinter\u001b[0m\u001b[0;34m.\u001b[0m\u001b[0mcreate\u001b[0m\u001b[0;34m(\u001b[0m\u001b[0mscreenName\u001b[0m\u001b[0;34m,\u001b[0m \u001b[0mbaseName\u001b[0m\u001b[0;34m,\u001b[0m \u001b[0mclassName\u001b[0m\u001b[0;34m,\u001b[0m \u001b[0minteractive\u001b[0m\u001b[0;34m,\u001b[0m \u001b[0mwantobjects\u001b[0m\u001b[0;34m,\u001b[0m \u001b[0museTk\u001b[0m\u001b[0;34m,\u001b[0m \u001b[0msync\u001b[0m\u001b[0;34m,\u001b[0m \u001b[0muse\u001b[0m\u001b[0;34m)\u001b[0m\u001b[0;34m\u001b[0m\u001b[0;34m\u001b[0m\u001b[0m\n\u001b[0m\u001b[1;32m   2271\u001b[0m         \u001b[0;32mif\u001b[0m \u001b[0museTk\u001b[0m\u001b[0;34m:\u001b[0m\u001b[0;34m\u001b[0m\u001b[0;34m\u001b[0m\u001b[0m\n\u001b[1;32m   2272\u001b[0m             \u001b[0mself\u001b[0m\u001b[0;34m.\u001b[0m\u001b[0m_loadtk\u001b[0m\u001b[0;34m(\u001b[0m\u001b[0;34m)\u001b[0m\u001b[0;34m\u001b[0m\u001b[0;34m\u001b[0m\u001b[0m\n",
            "\u001b[0;31mTclError\u001b[0m: no display name and no $DISPLAY environment variable"
          ]
        }
      ]
    },
    {
      "cell_type": "code",
      "source": [
        "mystr = 'TNA 123'\n",
        "trans_dict = {\"த\":\"T\",\"நா\":\"N\",\"அ\":\"A\",\"மீ\":\"M\"}\n",
        "mytable = mystr.maketrans(trans_dict)\n",
        "mystr_translated = mystr.translate(mytable)\n",
        "\n",
        "print('Original String:', mystr)\n",
        "print('Translated String:', mystr_translated)\n",
        "print('Table:', mytable)"
      ],
      "metadata": {
        "id": "SGNMS06O4Oqe",
        "outputId": "5f778525-3803-4881-eed6-8923e00e597c",
        "colab": {
          "base_uri": "https://localhost:8080/",
          "height": 235
        }
      },
      "execution_count": 3,
      "outputs": [
        {
          "output_type": "error",
          "ename": "ValueError",
          "evalue": "ignored",
          "traceback": [
            "\u001b[0;31m---------------------------------------------------------------------------\u001b[0m",
            "\u001b[0;31mValueError\u001b[0m                                Traceback (most recent call last)",
            "\u001b[0;32m<ipython-input-3-8dd3287f65ae>\u001b[0m in \u001b[0;36m<module>\u001b[0;34m\u001b[0m\n\u001b[1;32m      1\u001b[0m \u001b[0mmystr\u001b[0m \u001b[0;34m=\u001b[0m \u001b[0;34m'TNA 123'\u001b[0m\u001b[0;34m\u001b[0m\u001b[0;34m\u001b[0m\u001b[0m\n\u001b[1;32m      2\u001b[0m \u001b[0mtrans_dict\u001b[0m \u001b[0;34m=\u001b[0m \u001b[0;34m{\u001b[0m\u001b[0;34m\"த\"\u001b[0m\u001b[0;34m:\u001b[0m\u001b[0;34m\"T\"\u001b[0m\u001b[0;34m,\u001b[0m\u001b[0;34m\"நா\"\u001b[0m\u001b[0;34m:\u001b[0m\u001b[0;34m\"N\"\u001b[0m\u001b[0;34m,\u001b[0m\u001b[0;34m\"அ\"\u001b[0m\u001b[0;34m:\u001b[0m\u001b[0;34m\"A\"\u001b[0m\u001b[0;34m,\u001b[0m\u001b[0;34m\"மீ\"\u001b[0m\u001b[0;34m:\u001b[0m\u001b[0;34m\"M\"\u001b[0m\u001b[0;34m}\u001b[0m\u001b[0;34m\u001b[0m\u001b[0;34m\u001b[0m\u001b[0m\n\u001b[0;32m----> 3\u001b[0;31m \u001b[0mmytable\u001b[0m \u001b[0;34m=\u001b[0m \u001b[0mmystr\u001b[0m\u001b[0;34m.\u001b[0m\u001b[0mmaketrans\u001b[0m\u001b[0;34m(\u001b[0m\u001b[0mtrans_dict\u001b[0m\u001b[0;34m)\u001b[0m\u001b[0;34m\u001b[0m\u001b[0;34m\u001b[0m\u001b[0m\n\u001b[0m\u001b[1;32m      4\u001b[0m \u001b[0mmystr_translated\u001b[0m \u001b[0;34m=\u001b[0m \u001b[0mmystr\u001b[0m\u001b[0;34m.\u001b[0m\u001b[0mtranslate\u001b[0m\u001b[0;34m(\u001b[0m\u001b[0mmytable\u001b[0m\u001b[0;34m)\u001b[0m\u001b[0;34m\u001b[0m\u001b[0;34m\u001b[0m\u001b[0m\n\u001b[1;32m      5\u001b[0m \u001b[0;34m\u001b[0m\u001b[0m\n",
            "\u001b[0;31mValueError\u001b[0m: string keys in translate table must be of length 1"
          ]
        }
      ]
    },
    {
      "cell_type": "code",
      "source": [],
      "metadata": {
        "id": "lq5Br6rt8jjL"
      },
      "execution_count": null,
      "outputs": []
    },
    {
      "cell_type": "code",
      "source": [
        "mystr = 'தutorials TeacherN'\n",
        "trans_dict = {'த':'T','நா':'N','l':'3','h':'4'}\n",
        "mytable = mystr.maketrans(trans_dict)\n",
        "mystr_translated = mystr.translate(mytable)\n",
        "\n",
        "print('Original String:', mystr)\n",
        "print('Translated String:', mystr_translated)\n",
        "print('Table:', mytable)"
      ],
      "metadata": {
        "id": "Timc98aj4jIl",
        "outputId": "de9d1e27-7095-41a6-d377-0c22757900b7",
        "colab": {
          "base_uri": "https://localhost:8080/",
          "height": 235
        }
      },
      "execution_count": 11,
      "outputs": [
        {
          "output_type": "error",
          "ename": "ValueError",
          "evalue": "ignored",
          "traceback": [
            "\u001b[0;31m---------------------------------------------------------------------------\u001b[0m",
            "\u001b[0;31mValueError\u001b[0m                                Traceback (most recent call last)",
            "\u001b[0;32m<ipython-input-11-2cc95ad48432>\u001b[0m in \u001b[0;36m<module>\u001b[0;34m\u001b[0m\n\u001b[1;32m      1\u001b[0m \u001b[0mmystr\u001b[0m \u001b[0;34m=\u001b[0m \u001b[0;34m'தutorials TeacherN'\u001b[0m\u001b[0;34m\u001b[0m\u001b[0;34m\u001b[0m\u001b[0m\n\u001b[1;32m      2\u001b[0m \u001b[0mtrans_dict\u001b[0m \u001b[0;34m=\u001b[0m \u001b[0;34m{\u001b[0m\u001b[0;34m'த'\u001b[0m\u001b[0;34m:\u001b[0m\u001b[0;34m'T'\u001b[0m\u001b[0;34m,\u001b[0m\u001b[0;34m'நா'\u001b[0m\u001b[0;34m:\u001b[0m\u001b[0;34m'N'\u001b[0m\u001b[0;34m,\u001b[0m\u001b[0;34m'l'\u001b[0m\u001b[0;34m:\u001b[0m\u001b[0;34m'3'\u001b[0m\u001b[0;34m,\u001b[0m\u001b[0;34m'h'\u001b[0m\u001b[0;34m:\u001b[0m\u001b[0;34m'4'\u001b[0m\u001b[0;34m}\u001b[0m\u001b[0;34m\u001b[0m\u001b[0;34m\u001b[0m\u001b[0m\n\u001b[0;32m----> 3\u001b[0;31m \u001b[0mmytable\u001b[0m \u001b[0;34m=\u001b[0m \u001b[0mmystr\u001b[0m\u001b[0;34m.\u001b[0m\u001b[0mmaketrans\u001b[0m\u001b[0;34m(\u001b[0m\u001b[0mtrans_dict\u001b[0m\u001b[0;34m)\u001b[0m\u001b[0;34m\u001b[0m\u001b[0;34m\u001b[0m\u001b[0m\n\u001b[0m\u001b[1;32m      4\u001b[0m \u001b[0mmystr_translated\u001b[0m \u001b[0;34m=\u001b[0m \u001b[0mmystr\u001b[0m\u001b[0;34m.\u001b[0m\u001b[0mtranslate\u001b[0m\u001b[0;34m(\u001b[0m\u001b[0mmytable\u001b[0m\u001b[0;34m)\u001b[0m\u001b[0;34m\u001b[0m\u001b[0;34m\u001b[0m\u001b[0m\n\u001b[1;32m      5\u001b[0m \u001b[0;34m\u001b[0m\u001b[0m\n",
            "\u001b[0;31mValueError\u001b[0m: string keys in translate table must be of length 1"
          ]
        }
      ]
    },
    {
      "cell_type": "code",
      "source": [
        "s = 'as 1234'\n",
        "print('Original string:',s)\n",
        "try:\n",
        "    w = s.translate(str.maketrans({'as': 'dfg', '1234': 'qw'}))\n",
        "    print(\"s.translate(str.maketrans({'as': 'dfg', '1234': 'qw'}):\", w)\n",
        "\n",
        "try:   \n",
        "    w = s.translate(str.maketrans({'a': 'd', '12': 'q'}))\n",
        "    print(\"s.translate(str.maketrans({'a': 'd', '12': 'q'})):\", w)\n",
        "\n",
        "try:   \n",
        "    w = s.translate(str.maketrans({'a': 'd', '1': 'q'}))\n",
        "    print(\"s.translate(str.maketrans({'a': 'd', '1': 'q'})):\", w)\n",
        "except:\n",
        "    print(\"Error in [s = s.translate(str.maketrans({'a': 'd', '1': 'q'}))]\")\n",
        "\n",
        "trans_dict = {'as': 'dfg', '1234': 'qw'}\n",
        "for k,v in trans_dict.items():\n",
        "    y = s.split(k)\n",
        "    s = v.join(y)\n",
        "print('Replaced all subsrings:',s)"
      ],
      "metadata": {
        "id": "F9Rq64627g6d",
        "outputId": "9de602a8-844e-429b-c9be-ae293e782142",
        "colab": {
          "base_uri": "https://localhost:8080/"
        }
      },
      "execution_count": 12,
      "outputs": [
        {
          "output_type": "stream",
          "name": "stdout",
          "text": [
            "Original string: as 1234\n",
            "Error in [s.translate(str.maketrans({'as': 'dfg', '1234': 'qw'}))]\n",
            "Error in [s = s.translate(str.maketrans({'a': 'd', '12': 'q'}))]\n",
            "s.translate(str.maketrans({'a': 'd', '1': 'q'})): ds q234\n",
            "Replaced all subsrings: dfg qw\n"
          ]
        }
      ]
    },
    {
      "cell_type": "code",
      "source": [
        "import re\n",
        "\n",
        "def custom_make_translation(text, translation):\n",
        "    regex = re.compile('|'.join(map(re.escape, translation)))\n",
        "    return regex.sub(lambda match: translation[match.group(0)], text)"
      ],
      "metadata": {
        "id": "TBdRINVG8mUc"
      },
      "execution_count": 24,
      "outputs": []
    },
    {
      "cell_type": "code",
      "source": [
        "translation = {\n",
        "    \"த\":\"T\", \n",
        "    \"நா\":\"N\",\n",
        "    \"அ\": \"A\",\n",
        "    \"ca\":\"sa\"\n",
        "}\n",
        "\n",
        "text = \"தநாஅ\"\n",
        "translated = custom_make_translation(text, translation)\n",
        "print(translated)"
      ],
      "metadata": {
        "colab": {
          "base_uri": "https://localhost:8080/"
        },
        "id": "WrGOhVae8SNl",
        "outputId": "b455c191-67dd-48c4-f4e3-d83aba67a531"
      },
      "execution_count": 22,
      "outputs": [
        {
          "output_type": "stream",
          "name": "stdout",
          "text": [
            "TNA\n"
          ]
        }
      ]
    },
    {
      "cell_type": "code",
      "source": [
        "translation = {\n",
        "    \"த\":\"T\", \n",
        "    \"நா\":\"N\",\n",
        "    \"அ\": \"8\",\n",
        "    \"௧\":\"1\",\n",
        "    \"௨\":\"2\", \n",
        "    \"௩\":\"3\",\n",
        "    \"௪\": \"4\",\n",
        "    \"௫\":\"5\",\n",
        "    \"௬\":\"6\", \n",
        "    \"௭\":\"7\",\n",
        "    \"\": \"9\",\n",
        "    \"ca\":\"sa\",\n",
        "    \"0\":\"0\",\n",
        "    \"ஏ\":\"A\",\n",
        "    \"ஜே\":\"J\",\n",
        "    \"பி\":\"B\",\n",
        "\n",
        "}\n",
        "\n",
        "text = \"ஏஜே கூருருய\"\n",
        "\n",
        "translated = custom_make_translation(text, translation)\n",
        "print(translated)"
      ],
      "metadata": {
        "outputId": "d22180c1-f9a3-4e84-c77f-83acb1612a01",
        "colab": {
          "base_uri": "https://localhost:8080/"
        },
        "id": "z8F06FTU9cLH"
      },
      "execution_count": 26,
      "outputs": [
        {
          "output_type": "stream",
          "name": "stdout",
          "text": [
            "AJ கூருருய\n"
          ]
        }
      ]
    },
    {
      "cell_type": "code",
      "source": [
        "translation = {\n",
        "    \"த\":\"T\", \n",
        "    \"நா\":\"N\",\n",
        "    \"அ\": \"8\",\n",
        "    \"௧\":\"1\",\n",
        "    \"௨\":\"2\", \n",
        "    \"௩\":\"3\",\n",
        "    \"௪\": \"4\",\n",
        "    \"ரு\":\"5\",\n",
        "    \"௬\":\"6\", \n",
        "    \"௭\":\"7\",\n",
        "    \"௯\": \"9\",\n",
        "    \"0\":\"0\",\n",
        "    \"ஏ\":\"A\",\n",
        "    \"ஜே\":\"J\",\n",
        "    \"பி\":\"B\",\n",
        "\n",
        "}\n",
        "\n",
        "text = \"ஏஜே கூருருய\"\n",
        "\n",
        "translated = custom_make_translation(text, translation)\n",
        "print(translated)"
      ],
      "metadata": {
        "outputId": "4e242360-6103-4024-d0b2-3388ec1e9b04",
        "colab": {
          "base_uri": "https://localhost:8080/"
        },
        "id": "xFjak_3ax9wj"
      },
      "execution_count": 28,
      "outputs": [
        {
          "output_type": "stream",
          "name": "stdout",
          "text": [
            "AJ கூ55ய\n"
          ]
        }
      ]
    },
    {
      "cell_type": "code",
      "source": [
        "translation = {\n",
        "    \"த\":\"T\", \n",
        "    \"நா\":\"N\",\n",
        "    \"அ\": \"8\",\n",
        "    \"௧\":\"1\",\n",
        "    \"௨\":\"2\", \n",
        "    \"௩\":\"3\",\n",
        "    \"௪\": \"4\",\n",
        "    \"ரு\":\"5\",\n",
        "    \"௬\":\"6\", \n",
        "    \"௭\":\"7\",\n",
        "    \"௯\": \"9\",\n",
        "    \"0\":\"0\",\n",
        "    \"ஏ\":\"A\",\n",
        "    \"ஜே\":\"J\",\n",
        "    \"பி\":\"B\",\n",
        "\n",
        "}\n",
        "\n",
        "text = \"ஏஜே கூருருய\"\n",
        "\n",
        "translated = custom_make_translation(text, translation)\n",
        "print(translated)"
      ],
      "metadata": {
        "outputId": "4e242360-6103-4024-d0b2-3388ec1e9b04",
        "colab": {
          "base_uri": "https://localhost:8080/"
        },
        "id": "1WHWpWfGyqPi"
      },
      "execution_count": null,
      "outputs": [
        {
          "output_type": "stream",
          "name": "stdout",
          "text": [
            "AJ கூ55ய\n"
          ]
        }
      ]
    },
    {
      "cell_type": "code",
      "source": [
        "translation = {\n",
        "    \"த\":\"T\", \n",
        "    \"நா\":\"N\",\n",
        "    \"அ\": \"8\",\n",
        "    \"௧\":\"1\",\n",
        "    \"௨\":\"2\", \n",
        "    \"௩\":\"3\",\n",
        "    \"௪\": \"4\",\n",
        "    \"ரு\":\"5\",\n",
        "    \"௬\":\"6\", \n",
        "    \"௭\":\"7\",\n",
        "    \"௯\": \"9\",\n",
        "    \"0\":\"0\",\n",
        "    \"ஏ\":\"A\",\n",
        "    \"ஜே\":\"J\",\n",
        "    \"பி\":\"B\",\n",
        "\n",
        "}\n",
        "\n",
        "text = \"ஏஜே கூருருய\"\n",
        "\n",
        "translated = custom_make_translation(text, translation)\n",
        "print(translated)"
      ],
      "metadata": {
        "outputId": "4e242360-6103-4024-d0b2-3388ec1e9b04",
        "colab": {
          "base_uri": "https://localhost:8080/"
        },
        "id": "aMJR7dU0yrVf"
      },
      "execution_count": null,
      "outputs": [
        {
          "output_type": "stream",
          "name": "stdout",
          "text": [
            "AJ கூ55ய\n"
          ]
        }
      ]
    },
    {
      "cell_type": "code",
      "source": [
        "translation = {\n",
        "    \"த\":\"T\", \n",
        "    \"நா\":\"N\",\n",
        "    \"அ\": \"8\",\n",
        "    \"௧\":\"1\",\n",
        "    \"௨\":\"2\", \n",
        "    \"௩\":\"3\",\n",
        "    \"௪\": \"4\",\n",
        "    \"ரு\":\"5\",\n",
        "    \"௬\":\"6\", \n",
        "    \"௭\":\"7\",\n",
        "    \" \": \"9\",\n",
        "    \"0\":\"0\",\n",
        "    \"ஏ\":\"A\",\n",
        "    \"ஜே\":\"J\",\n",
        "    \"பி\":\"B\",\n",
        "\n",
        "}\n",
        "\n",
        "text = \"ஏஜே கூருருய\"\n",
        "\n",
        "translated = custom_make_translation(text, translation)\n",
        "print(translated)"
      ],
      "metadata": {
        "outputId": "4e242360-6103-4024-d0b2-3388ec1e9b04",
        "colab": {
          "base_uri": "https://localhost:8080/"
        },
        "id": "cq7gwWgIyuZy"
      },
      "execution_count": null,
      "outputs": [
        {
          "output_type": "stream",
          "name": "stdout",
          "text": [
            "AJ கூ55ய\n"
          ]
        }
      ]
    },
    {
      "cell_type": "code",
      "source": [
        "translation = {\n",
        "    \"த\":\"T\", \n",
        "    \"நா\":\"N\",\n",
        "    \"அ\": \"8\",\n",
        "    \"௧\":\"1\",\n",
        "    \"௨\":\"2\", \n",
        "    \"௩\":\"3\",\n",
        "    \"௪\": \"4\",\n",
        "    \"ரு\":\"5\",\n",
        "    \"௬\":\"6\", \n",
        "    \"௭\":\"7\",\n",
        "    \"\": \"9\",\n",
        "    \"0\":\"0\",\n",
        "    \"ஏ\":\"A\",\n",
        "    \"ஜே\":\"J\",\n",
        "    \"பி\":\"B\",\n",
        "\n",
        "}\n",
        "\n",
        "text = \"ஏஜே கூருருய\"\n",
        "\n",
        "translated = custom_make_translation(text, translation)\n",
        "print(translated)"
      ],
      "metadata": {
        "outputId": "695bc7f6-43d6-447b-ad2b-585603550838",
        "colab": {
          "base_uri": "https://localhost:8080/"
        },
        "id": "PUmQMNANyzf6"
      },
      "execution_count": 32,
      "outputs": [
        {
          "output_type": "stream",
          "name": "stdout",
          "text": [
            "9A9J9 9க9ூ559ய9\n"
          ]
        }
      ]
    },
    {
      "cell_type": "code",
      "source": [
        "translation = {\n",
        "    \"த\":\"T\", \n",
        "    \"நா\":\"N\",\n",
        "    \"அ\": \"8\",\n",
        "    \"௧\":\"1\",\n",
        "    \"௨\":\"2\", \n",
        "    \"௩\":\"3\",\n",
        "    \"௪\": \"4\",\n",
        "    \"ரு\":\"5\",\n",
        "    \"௬\":\"6\", \n",
        "    \"எ\":\"7\",\n",
        "    \"கூ\": \"9\",\n",
        "    \"ய\":\"0\",\n",
        "    \"ஏ\":\"A\",\n",
        "    \"ஜே\":\"J\",\n",
        "    \"பி\":\"B\",\n",
        "\n",
        "}\n",
        "\n",
        "text = \"தநா எ2 ஏஜே கூருருய\"\n",
        "\n",
        "translated = custom_make_translation(text, translation)\n",
        "print(translated)"
      ],
      "metadata": {
        "outputId": "4d95c6cc-7922-4f66-b009-e831051f3cfb",
        "colab": {
          "base_uri": "https://localhost:8080/"
        },
        "id": "7iWTx7S2y0_a"
      },
      "execution_count": 33,
      "outputs": [
        {
          "output_type": "stream",
          "name": "stdout",
          "text": [
            "TN 72 AJ 9550\n"
          ]
        }
      ]
    }
  ],
  "metadata": {
    "colab": {
      "name": "Snippets: Importing libraries",
      "provenance": [],
      "include_colab_link": true
    },
    "kernelspec": {
      "display_name": "Python 3",
      "name": "python3"
    }
  },
  "nbformat": 4,
  "nbformat_minor": 0
}